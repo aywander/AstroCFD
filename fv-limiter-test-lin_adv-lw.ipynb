{
 "cells": [
  {
   "cell_type": "markdown",
   "source": [
    "## Test of flux limiters for finite-volume (conservative) LW scheme\n",
    "This is a one-dimensional simulation of Burger's equation using conservative schemes in the range $0 < x < 100$.\n",
    "\n",
    "$$\n",
    "\\frac{\\partial u}{\\partial t} = c \\frac{\\partial u}{\\partial x}\n",
    "$$"
   ],
   "metadata": {
    "collapsed": false
   }
  },
  {
   "cell_type": "code",
   "execution_count": 1,
   "id": "798a046d-44be-4c97-b109-62b749c2a6d8",
   "metadata": {},
   "outputs": [],
   "source": [
    "import numpy as np\n",
    "import limiters as lim"
   ]
  },
  {
   "cell_type": "code",
   "execution_count": 2,
   "id": "70b34c2a-9046-497f-9c9a-6ae10aff2eb3",
   "metadata": {},
   "outputs": [],
   "source": [
    "# Grid\n",
    "nx = 100\n",
    "xl, xr = 0., 100.\n",
    "nghost = 2\n",
    "\n",
    "dx = (xr - xl) / nx\n",
    "nxt = nx + 2 * nghost\n",
    "\n",
    "# Courant number\n",
    "nu = 0.8\n",
    "\n",
    "# Advection speed (constant)\n",
    "c = 1.\n",
    "\n",
    "# Scheme\n",
    "# 'lw'\n",
    "scheme = 'lw'\n",
    "\n",
    "# Output dir\n",
    "out_dir = 'c-lax-wendroff'\n",
    "\n",
    "# limiter\n",
    "# 'minmod', '' for no limiter\n",
    "\n",
    "limiter = 'superbee'\n",
    "\n",
    "# Constant timestep\n",
    "dt = nu * dx / c\n",
    "\n",
    "# End time\n",
    "t_end = 30.\n",
    "\n",
    "# I/O\n",
    "n_output = 1\n",
    "\n",
    "# Initialize\n",
    "t = 0.\n",
    "nstep = 0"
   ]
  },
  {
   "cell_type": "code",
   "execution_count": 3,
   "id": "bb67bd6c-8843-4b9d-a5c9-d142ba57b186",
   "metadata": {},
   "outputs": [],
   "source": [
    "# Initialize grid\n",
    "\n",
    "# Cell centered grid\n",
    "xc = np.linspace(xl-0.5*nghost*dx, xr+0.5*nghost*dx, nxt)"
   ]
  },
  {
   "cell_type": "code",
   "execution_count": 4,
   "id": "46992e56-d802-49b1-9e6f-c9a0ad2e4976",
   "metadata": {},
   "outputs": [],
   "source": [
    "# Get Limiter function\n",
    "flim = getattr(lim, limiter) if limiter else None"
   ]
  },
  {
   "cell_type": "code",
   "execution_count": 5,
   "id": "bd38bcfc-b609-4027-b501-5d7f5184ca47",
   "metadata": {},
   "outputs": [],
   "source": [
    "# Initial conditions (Top hat)\n",
    "#u = np.where(np.logical_and(np.greater(xc, 25), np.less(xc, 50)), 1., 0.)\n",
    "u = np.where(xc<50., 1., 0.)"
   ]
  },
  {
   "cell_type": "code",
   "execution_count": 6,
   "id": "3517e838-85b4-4c92-b300-1f6557cc9b36",
   "metadata": {
    "pycharm": {
     "name": "#%%\n"
    }
   },
   "outputs": [],
   "source": [
    "# Time integration loop\n",
    "while t < t_end:\n",
    "\n",
    "    # Set Boundary conditions\n",
    "    u[:nghost] = u[nghost + 1]\n",
    "    u[-nghost:] = u[-nghost - 1]\n",
    "\n",
    "    # Create left, right, and inner arrays to construct fluxes and limiters\n",
    "\n",
    "    # Cell center fluxes\n",
    "    u_left = u[nghost - 1:-nghost]\n",
    "    u_right = u[nghost:-nghost + 1]\n",
    "    fc_left = c * u_left\n",
    "    fc_right = c * u_right\n",
    "\n",
    "    # Right and\n",
    "    if scheme == 'lw':\n",
    "\n",
    "        # Limiters for left and right fluxes\n",
    "        if flim:\n",
    "            u_inner = u[nghost - 1:-nghost + 1]\n",
    "            u_left = u[nghost - 2:-nghost]\n",
    "            u_right = u[nghost:-nghost + 2] if nghost > 2 else u[nghost:]\n",
    "            flim_n = flim(u_left, u_inner, u_right)\n",
    "            flim_l = flim_n[:-2]\n",
    "            flim_r = flim_n[1:-1]\n",
    "\n",
    "        else:\n",
    "            flim_r = flim_l = 1.\n",
    "\n",
    "        # Low res flux\n",
    "        fn_low = fc_left\n",
    "        fn_low_right = fn_low[1:]\n",
    "        fn_low_left = fn_low[:-1]\n",
    "\n",
    "        # High res flux\n",
    "        fn_high = 0.5 * (1. - nu) * (fc_right - fc_left)\n",
    "        fn_high_right = fn_high[1:] * flim_r\n",
    "        fn_high_left = fn_high[:-1] * flim_l\n",
    "\n",
    "        # Left and right fluxes are fn_low + fn_high\n",
    "        fn_right = fn_low_right + fn_high_right\n",
    "        fn_left = fn_low_left + fn_high_left\n",
    "\n",
    "    else:\n",
    "        print('Error: Unknown scheme. Exiting.')\n",
    "        exit()\n",
    "\n",
    "    # Calculate new solution. One timestep in selected scheme.\n",
    "    u_inner = u[nghost:-nghost]\n",
    "    u_inner = u_inner - nu * (fn_right - fn_left)\n",
    "\n",
    "    # Extend u to include ghost cells again\n",
    "    u = np.concatenate((nghost * [0], u_inner, nghost * [0]))\n",
    "\n",
    "    # Update time\n",
    "    t = t + dt\n",
    "    nstep = nstep + 1\n",
    "\n",
    "    # I/O\n",
    "    if nstep % n_output == 0:\n",
    "        u_inner.tofile(f'{out_dir}/{scheme}-{int(nstep / n_output):0>4d}.dat')\n"
   ]
  }
 ],
 "metadata": {
  "kernelspec": {
   "display_name": "Python 3",
   "language": "python",
   "name": "python3"
  },
  "language_info": {
   "codemirror_mode": {
    "name": "ipython",
    "version": 3
   },
   "file_extension": ".py",
   "mimetype": "text/x-python",
   "name": "python",
   "nbconvert_exporter": "python",
   "pygments_lexer": "ipython3",
   "version": "3.8.10"
  }
 },
 "nbformat": 4,
 "nbformat_minor": 5
}