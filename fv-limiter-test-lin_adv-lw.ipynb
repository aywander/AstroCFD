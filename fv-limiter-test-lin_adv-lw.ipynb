{
 "cells": [
  {
   "cell_type": "markdown",
   "id": "e925bd19-7ea6-4f8c-b873-89ca90289b53",
   "metadata": {},
   "source": [
    "## Test of flux limiters for finite-volume (conservative) LW scheme\n",
    "This is a one-dimensional simulation of Burger's equation using conservative schemes in the range $0 < x < 100$.\n",
    "\n",
    "$$\n",
    "\\frac{\\partial u}{\\partial t} = c \\frac{\\partial u}{\\partial x} \n",
    "$$\n"
   ]
  },
  {
   "cell_type": "code",
   "execution_count": 1,
   "id": "b848321b-19fc-47e0-89e5-7b0b1ca8574d",
   "metadata": {
    "tags": []
   },
   "outputs": [],
   "source": [
    "import numpy as np\n",
    "import limiters as lim"
   ]
  },
  {
   "cell_type": "code",
   "execution_count": 2,
   "id": "2f318d41-8e01-4f88-af15-b7862965fea3",
   "metadata": {},
   "outputs": [],
   "source": [
    "#%%time\n",
    "# Grid\n",
    "nx = 100\n",
    "xl, xr = 0., 100.\n",
    "nghost = 2\n",
    "\n",
    "dx = (xr - xl) / nx\n",
    "nxt = nx + 2 * nghost\n",
    "\n",
    "# Courant number\n",
    "nu = 0.8\n",
    "\n",
    "# Advection speed (constant)\n",
    "c = 1.\n",
    "\n",
    "# Scheme\n",
    "# 'lw'\n",
    "scheme = 'lw'\n",
    "\n",
    "# Output dir\n",
    "out_dir = 'c-lax-wendroff'\n",
    "\n",
    "# limiter\n",
    "# 'minmod', '' for no limiter\n",
    "\n",
    "limiter = 'superbee'\n",
    "\n",
    "# Constant timestep\n",
    "dt = nu * dx / c\n",
    "\n",
    "# End time\n",
    "t_end = 30.\n",
    "\n",
    "# I/O\n",
    "n_output = 1\n",
    "\n",
    "# Initialize\n",
    "t = 0.\n",
    "nstep = 0"
   ]
  },
  {
   "cell_type": "code",
   "execution_count": 3,
   "id": "2a6c3cfc-c65a-41ef-8bfc-931fc57e6f14",
   "metadata": {},
   "outputs": [],
   "source": [
    "# Initialize grid\n",
    "\n",
    "# Cell centered grid\n",
    "xc = np.linspace(xl-0.5*nghost*dx, xr+0.5*nghost*dx, nxt)"
   ]
  },
  {
   "cell_type": "code",
   "execution_count": 4,
   "id": "9db6373d-c8f7-4117-a19c-98f8b28538ae",
   "metadata": {},
   "outputs": [],
   "source": [
    "# Get Limiter function\n",
    "flim = getattr(lim, limiter) if limiter else None"
   ]
  },
  {
   "cell_type": "code",
   "execution_count": 5,
   "id": "f5b041b2-1b1d-4792-93d4-045a9bd320f8",
   "metadata": {
    "tags": []
   },
   "outputs": [],
   "source": [
    "# Initial conditions (Top hat)\n",
    "#u = np.where(np.logical_and(np.greater(xc, 25), np.less(xc, 50)), 1., 0.)\n",
    "u = np.where(xc<50., 1., 0.)"
   ]
  },
  {
   "cell_type": "code",
   "execution_count": 6,
   "id": "d15ca1b6-55cc-4f50-8edd-a5d6503be1d8",
   "metadata": {},
   "outputs": [],
   "source": [
    "#%%time\n",
    "# Time integration loop\n",
    "while t < t_end:\n",
    "    \n",
    "    # Set Boundary conditions\n",
    "    u[:nghost] = u[nghost+1]\n",
    "    u[-nghost:] = u[-nghost-1]\n",
    "    \n",
    "    # Create left, right, and inner arrays to construct fluxes and limiters\n",
    "    \n",
    "    # Cell center fluxes\n",
    "    u_left = u[nghost-1:-nghost]\n",
    "    u_right = u[nghost:-nghost+1]\n",
    "    fc_left = c * u_left\n",
    "    fc_right = c * u_right\n",
    "\n",
    "    # Right and \n",
    "    if scheme == 'lw':\n",
    "        \n",
    "        # Limiters for left and right fluxes\n",
    "        if flim:\n",
    "            u_inner = u[nghost-1:-nghost+1]\n",
    "            u_left = u[nghost-2:-nghost]\n",
    "            u_right = u[nghost:-nghost+2] if nghost > 2 else u[nghost:]\n",
    "            flim_n = flim(u_left, u_inner, u_right)\n",
    "            flim_l = flim_n[:-2]\n",
    "            flim_r = flim_n[1:-1]\n",
    "                \n",
    "        else:\n",
    "            flim_r = flim_l = 1.\n",
    "\n",
    "        # Low res flux\n",
    "        fn_low = fc_left\n",
    "        fn_low_right = fn_low[1:]\n",
    "        fn_low_left = fn_low[:-1]\n",
    "        \n",
    "        # High res flux\n",
    "        fn_high = 0.5 * (1. - nu) * (fc_right - fc_left)\n",
    "        fn_high_right = fn_high[1:] * flim_r\n",
    "        fn_high_left = fn_high[:-1] * flim_l\n",
    "\n",
    "        # Left and right fluxes are fn_low + fn_high\n",
    "        fn_right = fn_low_right + fn_high_right\n",
    "        fn_left = fn_low_left + fn_high_left\n",
    "\n",
    "    else:\n",
    "        print('Error: Unknown scheme. Exiting.')\n",
    "        exit()\n",
    "\n",
    "    # Calculate new solution. One timestep in selected scheme.\n",
    "    u_inner = u[nghost:-nghost]\n",
    "    u_inner = u_inner - nu * (fn_right - fn_left)\n",
    "    \n",
    "    # Extend u to include ghost cells again\n",
    "    u = np.concatenate((nghost*[0], u_inner, nghost*[0]))\n",
    "    \n",
    "    # Update time\n",
    "    t = t + dt\n",
    "    nstep = nstep + 1\n",
    "    \n",
    "    # I/O\n",
    "    if nstep % n_output == 0:\n",
    "        u_inner.tofile(f'{out_dir}/{scheme}-{int(nstep/n_output):0>4d}.dat')\n",
    "        "
   ]
  }
 ],
 "metadata": {
  "kernelspec": {
   "display_name": "Python 3",
   "language": "python",
   "name": "python3"
  },
  "language_info": {
   "codemirror_mode": {
    "name": "ipython",
    "version": 3
   },
   "file_extension": ".py",
   "mimetype": "text/x-python",
   "name": "python",
   "nbconvert_exporter": "python",
   "pygments_lexer": "ipython3",
   "version": "3.8.8"
  }
 },
 "nbformat": 4,
 "nbformat_minor": 5
}
