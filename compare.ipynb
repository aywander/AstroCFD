{
 "cells": [
  {
   "cell_type": "code",
   "execution_count": 1,
   "id": "5cf2e15e-d990-4931-8d8f-f58d4be3cc1d",
   "metadata": {},
   "outputs": [],
   "source": [
    "import numpy as np\n",
    "import matplotlib.pyplot as plt"
   ]
  },
  {
   "cell_type": "code",
   "execution_count": 2,
   "id": "516ead76-15aa-48d6-9234-7121ef65ed41",
   "metadata": {},
   "outputs": [],
   "source": [
    "# Grid\n",
    "nx = 100\n",
    "xl, xr = 0., 100.\n",
    "\n",
    "# Grid centering: 'nodal' or 'zonal'\n",
    "centering = 'zonal'\n",
    "\n",
    "# Cell size\n",
    "dx = (xr - xl) / (nx - (1 if centering == 'nodal' else 0))\n",
    "\n",
    "# Data\n",
    "out_dir = 'limiter-comparison'\n",
    "files = [\n",
    "    'lw-0038-minmod.dat',\n",
    "    #'lw-0038-van-leer.dat', \n",
    "    'lw-0038-superbee.dat', \n",
    "]\n",
    "    \n",
    "# show\n",
    "show = True\n"
   ]
  },
  {
   "cell_type": "code",
   "execution_count": 3,
   "id": "06d31cfb-8cab-4e8d-b894-fa4f72c424f5",
   "metadata": {},
   "outputs": [],
   "source": [
    "# Grid\n",
    "if centering == 'zonal':\n",
    "    x = np.linspace(xl + 0.5 * dx, xr - 0.5 * dx, nx)\n",
    "    \n",
    "elif centering == 'nodal':\n",
    "    x = np.linspace(xl, xr, nx)\n",
    "    \n",
    "else:        \n",
    "    print('Error: Unknown centering. Exiting.')\n",
    "    exit()"
   ]
  },
  {
   "cell_type": "code",
   "execution_count": 9,
   "id": "9214d869-9d72-4fc3-bc5b-bf9d1fcf279c",
   "metadata": {},
   "outputs": [
    {
     "data": {
      "image/png": "[encoded data removed]",
      "text/plain": [
       "<Figure size 432x288 with 1 Axes>"
      ]
     },
     "metadata": {
      "needs_background": "light"
     },
     "output_type": "display_data"
    }
   ],
   "source": [
    "# Prepare combined figurefigure\n",
    "fig = plt.figure()\n",
    "\n",
    "# Range to plot\n",
    "ibeg = 72\n",
    "iend = 88\n",
    "\n",
    "# Plot\n",
    "for data in files:\n",
    "    \n",
    "    # Filename\n",
    "    data = np.fromfile(f'{out_dir}/{data}')\n",
    "    plt.plot(x[ibeg:iend], data[ibeg:iend], '.-')\n",
    "\n",
    "# Plot annotations\n",
    "plt.xlabel(r'$x$')\n",
    "plt.ylabel(r'$u(x)$')\n",
    "\n",
    "\n",
    "# Save and close combined figure \n",
    "fname = 'comparison'\n",
    "plt.savefig(fname + '.png', dpi=300)\n",
    "plt.savefig(fname + '.pdf')\n",
    "if not show:\n",
    "    fig = plt.close(fig) \n"
   ]
  },
  {
   "cell_type": "code",
   "execution_count": null,
   "id": "aab7b6bc-9a36-4dc1-a46c-c081d4b230dd",
   "metadata": {},
   "outputs": [],
   "source": []
  },
  {
   "cell_type": "code",
   "execution_count": null,
   "id": "d9341fc7-58f2-4dc8-85a9-3af68a09ae1a",
   "metadata": {},
   "outputs": [],
   "source": []
  }
 ],
 "metadata": {
  "kernelspec": {
   "display_name": "Python 3",
   "language": "python",
   "name": "python3"
  },
  "language_info": {
   "codemirror_mode": {
    "name": "ipython",
    "version": 3
   },
   "file_extension": ".py",
   "mimetype": "text/x-python",
   "name": "python",
   "nbconvert_exporter": "python",
   "pygments_lexer": "ipython3",
   "version": "3.8.8"
  }
 },
 "nbformat": 4,
 "nbformat_minor": 5
}
