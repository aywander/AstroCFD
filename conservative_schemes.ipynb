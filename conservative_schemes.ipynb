{
 "cells": [
  {
   "cell_type": "markdown",
   "id": "e925bd19-7ea6-4f8c-b873-89ca90289b53",
   "metadata": {},
   "source": [
    "## Test of conservative schemes\n",
    "This is a one-dimensional simulation of Burger's equation using conservative schemes in the range $0 < x < 200$.\n",
    "\n",
    "$$\n",
    "\\frac{\\partial u}{\\partial t} = u \\frac{\\partial u}{\\partial x} \n",
    "$$\n",
    "\n",
    "with initial conditions\n",
    "\n",
    "$$\n",
    "u(x, 0) = 1 + \\epsilon \\sin (k x)\n",
    "$$"
   ]
  },
  {
   "cell_type": "code",
   "execution_count": 4,
   "id": "b848321b-19fc-47e0-89e5-7b0b1ca8574d",
   "metadata": {
    "tags": []
   },
   "outputs": [],
   "source": [
    "import numpy as np"
   ]
  },
  {
   "cell_type": "code",
   "execution_count": 5,
   "id": "2f318d41-8e01-4f88-af15-b7862965fea3",
   "metadata": {},
   "outputs": [],
   "source": [
    "# Grid\n",
    "nx = 100\n",
    "xl, xr = 0., 100.\n",
    "nghost = 1\n",
    "\n",
    "dx = (xr - xl) / nx\n",
    "nxt = nx + 2 * nghost\n",
    "\n",
    "# Courant number\n",
    "nu = 0.8\n",
    "\n",
    "# Advection speed (constant)\n",
    "c = 1.\n",
    "\n",
    "# Initial conditions for a small wave\n",
    "eps = 0.1\n",
    "L = 50\n",
    "\n",
    "# Scheme\n",
    "# 'lw', 'upwind'\n",
    "scheme = 'upwind'\n",
    "\n",
    "# Output dir\n",
    "out_dir = 'c-upwind'\n",
    "\n",
    "# Constant timestep\n",
    "dt = nu * dx / c\n",
    "\n",
    "# End time\n",
    "t_end = 10.\n",
    "\n",
    "# I/O\n",
    "n_output = 4\n",
    "\n",
    "# Initialize\n",
    "t = 0.\n",
    "nstep = 0\n"
   ]
  },
  {
   "cell_type": "code",
   "execution_count": 6,
   "id": "2a6c3cfc-c65a-41ef-8bfc-931fc57e6f14",
   "metadata": {},
   "outputs": [],
   "source": [
    "# Initialize grid\n",
    "\n",
    "# Node points (Cell interfaces)\n",
    "xn = np.linspace(xl-nghost*dx, xr+nghost*dx, nxt+1)\n",
    "\n",
    "# Cell centered grid\n",
    "xc = np.linspace(xl-0.5*nghost*dx, xr+0.5*nghost*dx, nxt)"
   ]
  },
  {
   "cell_type": "code",
   "execution_count": 7,
   "id": "f5b041b2-1b1d-4792-93d4-045a9bd320f8",
   "metadata": {},
   "outputs": [],
   "source": [
    "# Initial conditions (small amplitude wave)\n",
    "k = 2 * np.pi / L\n",
    "u = 1 + eps * np.sin(k * xc)"
   ]
  },
  {
   "cell_type": "code",
   "execution_count": 9,
   "id": "d15ca1b6-55cc-4f50-8edd-a5d6503be1d8",
   "metadata": {},
   "outputs": [
    {
     "ename": "ValueError",
     "evalue": "operands could not be broadcast together with shapes (100,) (99,) ",
     "output_type": "error",
     "traceback": [
      "\u001b[0;31m---------------------------------------------------------------------------\u001b[0m",
      "\u001b[0;31mValueError\u001b[0m                                Traceback (most recent call last)",
      "\u001b[0;32m<ipython-input-9-1b45a3257841>\u001b[0m in \u001b[0;36m<module>\u001b[0;34m\u001b[0m\n\u001b[1;32m     28\u001b[0m \u001b[0;34m\u001b[0m\u001b[0m\n\u001b[1;32m     29\u001b[0m     \u001b[0;31m# Calculate new solution. One timestep in selected scheme.\u001b[0m\u001b[0;34m\u001b[0m\u001b[0;34m\u001b[0m\u001b[0;34m\u001b[0m\u001b[0m\n\u001b[0;32m---> 30\u001b[0;31m     \u001b[0mu_new_inner\u001b[0m \u001b[0;34m=\u001b[0m \u001b[0mu_inner\u001b[0m \u001b[0;34m-\u001b[0m \u001b[0mnu\u001b[0m \u001b[0;34m*\u001b[0m \u001b[0;34m(\u001b[0m\u001b[0mfn_right\u001b[0m \u001b[0;34m-\u001b[0m \u001b[0mfn_left\u001b[0m\u001b[0;34m)\u001b[0m\u001b[0;34m\u001b[0m\u001b[0;34m\u001b[0m\u001b[0m\n\u001b[0m\u001b[1;32m     31\u001b[0m \u001b[0;34m\u001b[0m\u001b[0m\n\u001b[1;32m     32\u001b[0m     \u001b[0;31m# Create a copy so that we can still use u_new_inner.\u001b[0m\u001b[0;34m\u001b[0m\u001b[0;34m\u001b[0m\u001b[0;34m\u001b[0m\u001b[0m\n",
      "\u001b[0;31mValueError\u001b[0m: operands could not be broadcast together with shapes (100,) (99,) "
     ]
    }
   ],
   "source": [
    "# Time integration loop\n",
    "while t < t_end:\n",
    "    \n",
    "    # Set Boundary conditions\n",
    "    u[0] = u[1]\n",
    "    u[-1] = u[-2]\n",
    "    \n",
    "    # Create left, right, and inner arrays to construct fluxes\n",
    "    u_right = u[nghost+1:]\n",
    "    u_left = u[:-nghost-1]\n",
    "    u_inner = u[nghost:-nghost]\n",
    "\n",
    "    # Right and left fluxes for Burger's equation\n",
    "    fc_inner = u_inner * u_inner / 2.\n",
    "    fc_right = u_right * u_right / 2.\n",
    "    \n",
    "    if scheme == 'upwind':\n",
    "        fn = np.where(u_right + u_inner > 0, fc_inner, fc_right)\n",
    "        fn_right = fn[1:] \n",
    "        fn_left = fn[:-1]\n",
    "        \n",
    "    elif scheme == 'lw':\n",
    "        pass\n",
    "        \n",
    "    else:\n",
    "        print('Error: Unknown scheme. Exiting.')\n",
    "        exit()\n",
    "\n",
    "    # Calculate new solution. One timestep in selected scheme.\n",
    "    u_new_inner = u_inner - nu * (fn_right - fn_left)\n",
    "    \n",
    "    # Create a copy so that we can still use u_new_inner.\n",
    "    u_inner = u_new_inner.copy()\n",
    "    \n",
    "    # Extend u to include ghost cells again\n",
    "    u = np.concatenate(([0], u_inner, [0]))\n",
    "    \n",
    "    # Update time\n",
    "    t = t + dt\n",
    "    nstep = nstep + 1\n",
    "    \n",
    "    # I/O\n",
    "    if nstep % n_output == 0:\n",
    "        u_inner.tofile(f'{out_dir}/{scheme}-{int(nstep/n_output):0>4d}.dat')\n",
    "        "
   ]
  },
  {
   "cell_type": "code",
   "execution_count": null,
   "id": "176d0cb0-8d34-4f7f-b4ed-deba557f255a",
   "metadata": {},
   "outputs": [],
   "source": []
  }
 ],
 "metadata": {
  "kernelspec": {
   "display_name": "Python 3",
   "language": "python",
   "name": "python3"
  },
  "language_info": {
   "codemirror_mode": {
    "name": "ipython",
    "version": 3
   },
   "file_extension": ".py",
   "mimetype": "text/x-python",
   "name": "python",
   "nbconvert_exporter": "python",
   "pygments_lexer": "ipython3",
   "version": "3.8.8"
  }
 },
 "nbformat": 4,
 "nbformat_minor": 5
}
