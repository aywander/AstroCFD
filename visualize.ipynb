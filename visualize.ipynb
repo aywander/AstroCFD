{
 "cells": [
  {
   "cell_type": "code",
   "execution_count": 1,
   "id": "5cf2e15e-d990-4931-8d8f-f58d4be3cc1d",
   "metadata": {},
   "outputs": [],
   "source": [
    "import numpy as np\n",
    "import matplotlib.pyplot as plt"
   ]
  },
  {
   "cell_type": "code",
   "execution_count": 2,
   "id": "516ead76-15aa-48d6-9234-7121ef65ed41",
   "metadata": {},
   "outputs": [],
   "source": [
    "# Grid\n",
    "nx = 100\n",
    "xl, xr = 0., 100.\n",
    "\n",
    "# Grid centering: 'nodal' or 'zonal'\n",
    "centering = 'zonal'\n",
    "\n",
    "# Cell size\n",
    "dx = (xr - xl) / (nx - (1 if centering == 'nodal' else 0))\n",
    "\n",
    "# Scheme\n",
    "# 'ftcs', 'lf', 'lw', 'lw-rm', 'lw-mc', 'upwind'\n",
    "scheme = 'lw'\n",
    "\n",
    "# Output dir\n",
    "out_dir = 'c-lax-wendroff'\n",
    "\n",
    "# I/O\n",
    "times = range(1, 39, 5)\n",
    "\n",
    "# Output mode: 'individual', 'superimpose'\n",
    "out_mode = 'superimpose'\n",
    "\n",
    "# show\n",
    "show = True\n"
   ]
  },
  {
   "cell_type": "code",
   "execution_count": 3,
   "id": "06d31cfb-8cab-4e8d-b894-fa4f72c424f5",
   "metadata": {},
   "outputs": [],
   "source": [
    "# Grid\n",
    "if centering == 'zonal':\n",
    "    x = np.linspace(xl + 0.5 * dx, xr - 0.5 * dx, nx)\n",
    "    \n",
    "elif centering == 'nodal':\n",
    "    x = np.linspace(xl, xr, nx)\n",
    "    \n",
    "else:        \n",
    "    print('Error: Unknown centering. Exiting.')\n",
    "    exit()"
   ]
  },
  {
   "cell_type": "code",
   "execution_count": 4,
   "id": "9214d869-9d72-4fc3-bc5b-bf9d1fcf279c",
   "metadata": {},
   "outputs": [
    {
     "data": {
      "image/png": "[encoded data removed]",
      "text/plain": [
       "<Figure size 432x288 with 1 Axes>"
      ]
     },
     "metadata": {
      "needs_background": "light"
     },
     "output_type": "display_data"
    }
   ],
   "source": [
    "# Filename\n",
    "fname = f'{out_dir}/{scheme}'\n",
    "\n",
    "# Prepare combined figurefigure\n",
    "if out_mode == 'superimpose':\n",
    "    fig = plt.figure()\n",
    "\n",
    "# Plot output files\n",
    "for time in times:\n",
    "    \n",
    "    # Create individual figs\n",
    "    if out_mode == 'individual':\n",
    "        fig = plt.figure()\n",
    "    \n",
    "    # Get data\n",
    "    tfstr = f'{time:0>4d}'\n",
    "    data = np.fromfile(f'{fname}-{tfstr}.dat')\n",
    "    \n",
    "    # Plot\n",
    "    plt.plot(x, data, '.-')\n",
    "    \n",
    "    # Save and close individual figs\n",
    "    if out_mode == 'individual':\n",
    "        plt.savefig(f'{fname}-{tfstr}.png', dpi=300)\n",
    "        plt.savefig(f'{fname}-{tfstr}.pdf')\n",
    "        plt.close(fig)\n",
    "        \n",
    "    \n",
    "# Save and close combined figure \n",
    "if out_mode == 'superimpose':\n",
    "    plt.savefig(fname + '.png', dpi=300)\n",
    "    plt.savefig(fname + '.pdf')\n",
    "    if not show:\n",
    "        fig = plt.close(fig) \n",
    "\n",
    "    "
   ]
  },
  {
   "cell_type": "code",
   "execution_count": null,
   "id": "aab7b6bc-9a36-4dc1-a46c-c081d4b230dd",
   "metadata": {},
   "outputs": [],
   "source": []
  },
  {
   "cell_type": "code",
   "execution_count": null,
   "id": "d9341fc7-58f2-4dc8-85a9-3af68a09ae1a",
   "metadata": {},
   "outputs": [],
   "source": []
  }
 ],
 "metadata": {
  "kernelspec": {
   "display_name": "Python 3",
   "language": "python",
   "name": "python3"
  },
  "language_info": {
   "codemirror_mode": {
    "name": "ipython",
    "version": 3
   },
   "file_extension": ".py",
   "mimetype": "text/x-python",
   "name": "python",
   "nbconvert_exporter": "python",
   "pygments_lexer": "ipython3",
   "version": "3.8.8"
  }
 },
 "nbformat": 4,
 "nbformat_minor": 5
}
