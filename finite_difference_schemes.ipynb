{
 "cells": [
  {
   "cell_type": "markdown",
   "id": "e925bd19-7ea6-4f8c-b873-89ca90289b53",
   "metadata": {},
   "source": [
    "## Test of difference schemes\n",
    "This is a one-dimensional simulation of the advection equation using the **FTCS** scheme in the range $0 < x < 100$.\n",
    "\n",
    "$$\n",
    "\\frac{\\partial u}{\\partial t} = c \\frac{\\partial u}{\\partial x} \n",
    "$$"
   ]
  },
  {
   "cell_type": "code",
   "execution_count": 1,
   "id": "b848321b-19fc-47e0-89e5-7b0b1ca8574d",
   "metadata": {
    "tags": []
   },
   "outputs": [],
   "source": [
    "import numpy as np"
   ]
  },
  {
   "cell_type": "code",
   "execution_count": 2,
   "id": "2f318d41-8e01-4f88-af15-b7862965fea3",
   "metadata": {},
   "outputs": [],
   "source": [
    "# Grid\n",
    "nx = 101\n",
    "xl, xr = 0., 100.\n",
    "nghost = 1\n",
    "\n",
    "dx = (xr - xl) / (nx - 1)\n",
    "nxt = nx + 2 * nghost\n",
    "\n",
    "# Courant number\n",
    "nu = 0.8\n",
    "\n",
    "# Advection speed (constant)\n",
    "c = 1.\n",
    "\n",
    "# Scheme\n",
    "# 'ftcs', 'lf', 'lw', 'lw-rm', 'lw-mc', 'upwind',\n",
    "scheme = 'lw-rm'\n",
    "\n",
    "# Output dir\n",
    "out_dir = 'lax-wendroff'\n",
    "\n",
    "# Constant timestep\n",
    "dt = nu * dx / c\n",
    "\n",
    "# End time\n",
    "t_end = 30.\n",
    "\n",
    "# I/O\n",
    "n_output = 1\n",
    "\n",
    "# Initialize\n",
    "t = 0.\n",
    "nstep = 0\n"
   ]
  },
  {
   "cell_type": "code",
   "execution_count": 3,
   "id": "2a6c3cfc-c65a-41ef-8bfc-931fc57e6f14",
   "metadata": {},
   "outputs": [],
   "source": [
    "# Initialize grid\n",
    "x = np.linspace(xl-nghost*dx, xr+nghost*dx, nxt)"
   ]
  },
  {
   "cell_type": "code",
   "execution_count": 4,
   "id": "f5b041b2-1b1d-4792-93d4-045a9bd320f8",
   "metadata": {},
   "outputs": [],
   "source": [
    "# Initial conditions (step function)\n",
    "u = np.where(x<50., 1., 0.)"
   ]
  },
  {
   "cell_type": "code",
   "execution_count": 5,
   "id": "d15ca1b6-55cc-4f50-8edd-a5d6503be1d8",
   "metadata": {},
   "outputs": [],
   "source": [
    "# Time integration loop\n",
    "while t < t_end:\n",
    "    \n",
    "    # Set Boundary conditions\n",
    "    u[:nghost] = u[nghost]\n",
    "    u[-nghost:] = u[-nghost-1]\n",
    "    \n",
    "    # Create left, right, and inner arrays to construct central differences\n",
    "    u_right = u[nghost+1:]\n",
    "    u_left = u[:-nghost-1]\n",
    "    u_inner = u[nghost:-nghost]\n",
    "    \n",
    "    # Calculate new solution. One timestep in selected scheme.\n",
    "    if scheme == 'ftcs':\n",
    "        u_new_inner = u_inner - 0.5 * nu * (u_right - u_left)\n",
    "        \n",
    "    elif scheme == 'lf':\n",
    "        u_new_inner = 0.5 * (u_right + u_left) - 0.5 * nu * (u_right - u_left)\n",
    "        \n",
    "    elif scheme == 'upwind':\n",
    "        u_new_inner = u_inner - nu * (u_inner - u_left)\n",
    "        \n",
    "    elif scheme == 'lw':\n",
    "        u_new_inner = u_inner - 0.5 * nu * (u_right - u_left) + 0.5 * nu * nu * (u_right - 2 * u_inner + u_left)\n",
    "    \n",
    "    elif scheme == 'lw-rm':\n",
    "        un_left = 0.5 * (u_inner + u_left) - 0.5 * nu * (u_inner - u_left)\n",
    "        un_right = 0.5 * (u_right + u_inner) - 0.5 * nu * (u_right - u_inner)\n",
    "        u_new_inner = u_inner - nu * (un_right - un_left)\n",
    "        \n",
    "    else:\n",
    "        print('Error: Unknown scheme. Exiting.')\n",
    "        exit()\n",
    "\n",
    "    # Create a copy so that we can still use u_new_inner.\n",
    "    u_inner = u_new_inner.copy()\n",
    "    \n",
    "    # Extend u to include ghost cells again\n",
    "    u = np.concatenate(([0], u_inner, [0]))\n",
    "    \n",
    "    # Update time\n",
    "    t = t + dt\n",
    "    nstep = nstep + 1\n",
    "\n",
    "    # I/O\n",
    "    if nstep % n_output == 0:\n",
    "        u_inner.tofile(f'{out_dir}/{scheme}-{int(nstep/n_output):0>4d}.dat')\n",
    "        "
   ]
  },
  {
   "cell_type": "code",
   "execution_count": null,
   "id": "176d0cb0-8d34-4f7f-b4ed-deba557f255a",
   "metadata": {},
   "outputs": [],
   "source": []
  },
  {
   "cell_type": "code",
   "execution_count": null,
   "id": "39a1924c-6aeb-468e-bfe1-1874428083ba",
   "metadata": {},
   "outputs": [],
   "source": []
  }
 ],
 "metadata": {
  "kernelspec": {
   "display_name": "Python 3",
   "language": "python",
   "name": "python3"
  },
  "language_info": {
   "codemirror_mode": {
    "name": "ipython",
    "version": 3
   },
   "file_extension": ".py",
   "mimetype": "text/x-python",
   "name": "python",
   "nbconvert_exporter": "python",
   "pygments_lexer": "ipython3",
   "version": "3.8.8"
  }
 },
 "nbformat": 4,
 "nbformat_minor": 5
}
