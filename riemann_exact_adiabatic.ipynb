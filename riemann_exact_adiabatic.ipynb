{
 "cells": [
  {
   "cell_type": "code",
   "execution_count": 1,
   "outputs": [],
   "source": [
    "import numpy as np\n",
    "import riemann_exact.riemann_exact_adiabatic as rma\n",
    "import matplotlib.pyplot as plt"
   ],
   "metadata": {
    "collapsed": false,
    "pycharm": {
     "name": "#%%\n"
    }
   }
  },
  {
   "cell_type": "code",
   "execution_count": 2,
   "outputs": [],
   "source": [
    "# Left and right initial states (rho, u)\n",
    "q_l = np.array([1., 0., 1.])\n",
    "q_r = np.array([0.125, 0., 0.1])\n",
    "gamma = 1.4\n",
    "time = 0.15"
   ],
   "metadata": {
    "collapsed": false,
    "pycharm": {
     "name": "#%%\n"
    }
   }
  },
  {
   "cell_type": "code",
   "execution_count": 3,
   "outputs": [],
   "source": [
    "# Solution grid\n",
    "grid = np.linspace(-0.5, 0.5, 401)"
   ],
   "metadata": {
    "collapsed": false,
    "pycharm": {
     "name": "#%%\n"
    }
   }
  },
  {
   "cell_type": "code",
   "execution_count": 4,
   "outputs": [
    {
     "name": "stdout",
     "output_type": "stream",
     "text": [
      "Root found:\n",
      "p* = 0.3031301780506468, u* = 0.9274526200489499\n",
      "rho_*l = 0.42631942817849516, rho_r = 0.2655737117053071\n",
      "Left wave is a rarefaction.\n",
      "Right wave is a shock.\n"
     ]
    }
   ],
   "source": [
    "# Get solution.\n",
    "rho, u, prs = rma.riemann_exact(q_l, q_r, gamma, grid, time)"
   ],
   "metadata": {
    "collapsed": false,
    "pycharm": {
     "name": "#%%\n"
    }
   }
  },
  {
   "cell_type": "code",
   "execution_count": 5,
   "outputs": [
    {
     "data": {
      "text/plain": "<matplotlib.legend.Legend at 0x7fa2e8208a90>"
     },
     "execution_count": 5,
     "metadata": {},
     "output_type": "execute_result"
    },
    {
     "data": {
      "text/plain": "<Figure size 432x288 with 1 Axes>",
      "image/png": "[encoded data removed]"
     },
     "metadata": {
      "needs_background": "light"
     },
     "output_type": "display_data"
    }
   ],
   "source": [
    "plt.plot(grid, u, label=r'$u$')\n",
    "plt.plot(grid, rho, label=r'$\\rho$')\n",
    "plt.plot(grid, prs, label=r'$p$')\n",
    "plt.xlabel(r'$x$')\n",
    "plt.ylabel(r'$\\rho$, $u$, $p$')\n",
    "plt.text(0.7, 0.94,fr'$t = {time}$', transform=plt.gca().transAxes)\n",
    "plt.legend(loc=1)\n"
   ],
   "metadata": {
    "collapsed": false,
    "pycharm": {
     "name": "#%%\n"
    }
   }
  },
  {
   "cell_type": "markdown",
   "source": [],
   "metadata": {
    "collapsed": false
   }
  },
  {
   "cell_type": "markdown",
   "source": [],
   "metadata": {
    "collapsed": false
   }
  }
 ],
 "metadata": {
  "kernelspec": {
   "display_name": "Python 3",
   "language": "python",
   "name": "python3"
  },
  "language_info": {
   "codemirror_mode": {
    "name": "ipython",
    "version": 2
   },
   "file_extension": ".py",
   "mimetype": "text/x-python",
   "name": "python",
   "nbconvert_exporter": "python",
   "pygments_lexer": "ipython2",
   "version": "2.7.6"
  }
 },
 "nbformat": 4,
 "nbformat_minor": 0
}